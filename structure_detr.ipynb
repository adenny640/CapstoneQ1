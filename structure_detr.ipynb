{
  "cells": [
    {
      "cell_type": "markdown",
      "metadata": {
        "id": "1qt_q2gCAg-Y"
      },
      "source": [
        "# Objective: fine-tuning DETR\n",
        "\n",
        "-   This notebook features woctezuma's repo for finetuning detr: https://github.com/woctezuma/finetune-detr\n",
        "-   Official DETR repository: https://github.com/facebookresearch/detr"
      ]
    },
    {
      "cell_type": "code",
      "execution_count": null,
      "metadata": {
        "colab": {
          "base_uri": "https://localhost:8080/"
        },
        "id": "KCrlzjaLQQMm",
        "outputId": "df309061-d803-452e-ce6a-434e7e91da4b"
      },
      "outputs": [],
      "source": [
        "import torch, torchvision\n",
        "print(torch.__version__, torch.cuda.is_available())\n",
        "\n",
        "torch.set_grad_enabled(False);"
      ]
    },
    {
      "cell_type": "code",
      "execution_count": null,
      "metadata": {
        "id": "UkohJxlEMRKf"
      },
      "outputs": [],
      "source": [
        "import torchvision.transforms as T\n",
        "\n",
        "# standard PyTorch mean-std input image normalization\n",
        "transform = T.Compose([\n",
        "    T.Resize(800),\n",
        "    T.ToTensor(),\n",
        "    T.Normalize([0.485, 0.456, 0.406], [0.229, 0.224, 0.225])\n",
        "])\n",
        "\n",
        "# for output bounding box post-processing\n",
        "def box_cxcywh_to_xyxy(x):\n",
        "    x_c, y_c, w, h = x.unbind(1)\n",
        "    b = [(x_c - 0.5 * w), (y_c - 0.5 * h),\n",
        "         (x_c + 0.5 * w), (y_c + 0.5 * h)]\n",
        "    return torch.stack(b, dim=1)\n",
        "\n",
        "def rescale_bboxes(out_bbox, size):\n",
        "    img_w, img_h = size\n",
        "    b = box_cxcywh_to_xyxy(out_bbox)\n",
        "    b = b * torch.tensor([img_w, img_h, img_w, img_h], dtype=torch.float32)\n",
        "    return b"
      ]
    },
    {
      "cell_type": "code",
      "execution_count": null,
      "metadata": {
        "id": "e5unKhvKN0Sc"
      },
      "outputs": [],
      "source": [
        "def filter_bboxes_from_outputs(outputs,\n",
        "                               threshold=0.7):\n",
        "\n",
        "  # keep only predictions with confidence above threshold\n",
        "  probas = outputs['pred_logits'].softmax(-1)[0, :, :-1]\n",
        "  keep = probas.max(-1).values > threshold\n",
        "\n",
        "  probas_to_keep = probas[keep]\n",
        "\n",
        "  # convert boxes from [0; 1] to image scales\n",
        "  bboxes_scaled = rescale_bboxes(outputs['pred_boxes'][0, keep], im.size)\n",
        "\n",
        "  return probas_to_keep, bboxes_scaled"
      ]
    },
    {
      "cell_type": "code",
      "execution_count": null,
      "metadata": {
        "id": "RVvgJbJbMOKk"
      },
      "outputs": [],
      "source": [
        "# COCO classes\n",
        "CLASSES = [\n",
        "    'N/A', 'person', 'bicycle', 'car', 'motorcycle', 'airplane', 'bus',\n",
        "    'train', 'truck', 'boat', 'traffic light', 'fire hydrant', 'N/A',\n",
        "    'stop sign', 'parking meter', 'bench', 'bird', 'cat', 'dog', 'horse',\n",
        "    'sheep', 'cow', 'elephant', 'bear', 'zebra', 'giraffe', 'N/A', 'backpack',\n",
        "    'umbrella', 'N/A', 'N/A', 'handbag', 'tie', 'suitcase', 'frisbee', 'skis',\n",
        "    'snowboard', 'sports ball', 'kite', 'baseball bat', 'baseball glove',\n",
        "    'skateboard', 'surfboard', 'tennis racket', 'bottle', 'N/A', 'wine glass',\n",
        "    'cup', 'fork', 'knife', 'spoon', 'bowl', 'banana', 'apple', 'sandwich',\n",
        "    'orange', 'broccoli', 'carrot', 'hot dog', 'pizza', 'donut', 'cake',\n",
        "    'chair', 'couch', 'potted plant', 'bed', 'N/A', 'dining table', 'N/A',\n",
        "    'N/A', 'toilet', 'N/A', 'tv', 'laptop', 'mouse', 'remote', 'keyboard',\n",
        "    'cell phone', 'microwave', 'oven', 'toaster', 'sink', 'refrigerator', 'N/A',\n",
        "    'book', 'clock', 'vase', 'scissors', 'teddy bear', 'hair drier',\n",
        "    'toothbrush'\n",
        "]\n",
        "\n",
        "# colors for visualization\n",
        "COLORS = [[0.000, 0.447, 0.741], [0.850, 0.325, 0.098], [0.929, 0.694, 0.125],\n",
        "          [0.494, 0.184, 0.556], [0.466, 0.674, 0.188], [0.301, 0.745, 0.933]]"
      ]
    },
    {
      "cell_type": "code",
      "execution_count": null,
      "metadata": {
        "id": "TvGhKVLEMT0U"
      },
      "outputs": [],
      "source": [
        "import matplotlib.pyplot as plt\n",
        "\n",
        "def plot_results(pil_img, prob=None, boxes=None):\n",
        "    plt.figure(figsize=(16,10))\n",
        "    plt.imshow(pil_img)\n",
        "    ax = plt.gca()\n",
        "    colors = COLORS * 100\n",
        "    if prob is not None and boxes is not None:\n",
        "      for p, (xmin, ymin, xmax, ymax), c in zip(prob, boxes.tolist(), colors):\n",
        "          ax.add_patch(plt.Rectangle((xmin, ymin), xmax - xmin, ymax - ymin,\n",
        "                                    fill=False, color=c, linewidth=3))\n",
        "          cl = p.argmax()\n",
        "          text = f'{CLASSES[cl]}: {p[cl]:0.2f}'\n",
        "          ax.text(xmin, ymin, text, fontsize=15,\n",
        "                  bbox=dict(facecolor='yellow', alpha=0.5))\n",
        "    plt.axis('off')\n",
        "    plt.show()"
      ]
    },
    {
      "cell_type": "code",
      "execution_count": null,
      "metadata": {
        "colab": {
          "base_uri": "https://localhost:8080/"
        },
        "id": "GGCLU0fPJi1N",
        "outputId": "5c83be9b-e26f-4d1b-9c26-25c3c3ffc385"
      },
      "outputs": [],
      "source": [
        "model = torch.hub.load('facebookresearch/detr', 'detr_resnet50', pretrained=True)\n",
        "model.eval();"
      ]
    },
    {
      "cell_type": "code",
      "execution_count": null,
      "metadata": {
        "id": "Zm387uCTMEfz"
      },
      "outputs": [],
      "source": [
        "from PIL import Image\n",
        "import requests\n"
      ]
    },
    {
      "cell_type": "markdown",
      "metadata": {
        "id": "v9xDyXZYsRom"
      },
      "source": [
        "## Clone my custom code of DETR\n",
        "\n",
        "Clone [my fork](https://github.com/woctezuma/detr/tree/finetune) tailored for a custom dataset:\n",
        "-   called `custom`,\n",
        "-   with `max_class_id = 2` ([explanation](https://github.com/facebookresearch/detr/issues/108#issuecomment-650269223)).\n",
        "\n",
        "**Caveat**: if you later use `first_class_index = 1` for your dataset, then it is fine. However, if you later use `first_class_index = 0`, then you will have to override the value of `max_class_id` (so that it is equal to 1) when calling `!python main.py`. My fork can do that.\n"
      ]
    },
    {
      "cell_type": "code",
      "execution_count": null,
      "metadata": {
        "colab": {
          "base_uri": "https://localhost:8080/"
        },
        "id": "LBN93iLEsY5T",
        "outputId": "a2e709a3-8f77-42c5-ca7a-c4be71bcf1d4"
      },
      "outputs": [],
      "source": [
        "%cd /content/\n",
        "\n",
        "!rm -rf detr\n",
        "!git clone https://github.com/woctezuma/detr.git\n",
        "\n",
        "%cd detr/\n",
        "\n",
        "!git checkout finetune"
      ]
    },
    {
      "cell_type": "markdown",
      "metadata": {
        "id": "ws9dFk2XffVI"
      },
      "source": [
        "## Load pre-trained weights\n",
        "\n",
        "Load a check-point (urls can be found [here](https://github.com/facebookresearch/detr#model-zoo)), then remove the classification head."
      ]
    },
    {
      "cell_type": "code",
      "execution_count": null,
      "metadata": {
        "id": "LrQ-rZMq2rAp"
      },
      "outputs": [],
      "source": [
        "# Get pretrained weights\n",
        "checkpoint = torch.hub.load_state_dict_from_url(\n",
        "            url='https://dl.fbaipublicfiles.com/detr/detr-r50-e632da11.pth',\n",
        "            map_location='cpu',\n",
        "            check_hash=True)\n",
        "\n",
        "# Remove class weights\n",
        "del checkpoint[\"model\"][\"class_embed.weight\"]\n",
        "del checkpoint[\"model\"][\"class_embed.bias\"]\n",
        "\n",
        "# Save\n",
        "torch.save(checkpoint,\n",
        "           'detr-r50_no-class-head.pth')"
      ]
    },
    {
      "cell_type": "markdown",
      "metadata": {
        "id": "i6mkrMa3sg9r"
      },
      "source": [
        "## Prepare the dataset for fine-tuning\n",
        "\n",
        "Our custom dataset of annotated streetview images will be used with COCO Json annotations:"
      ]
    },
    {
      "cell_type": "code",
      "execution_count": null,
      "metadata": {
        "id": "Aas8cfHi-Kja"
      },
      "outputs": [],
      "source": [
        "# Categories will be indexed starting from 1.\n",
        "# First category ID in COCO JSON file will be ID=1\n",
        "\n",
        "first_class_index = 1"
      ]
    },
    {
      "cell_type": "markdown",
      "metadata": {
        "id": "uZxT8VAiEuBp"
      },
      "source": [
        "We expect the directory structure to be the following:\n",
        "```\n",
        "path/to/coco/\n",
        "├ annotations/  # JSON annotations\n",
        "│  ├ annotations/custom_train.json\n",
        "│  └ annotations/custom_val.json\n",
        "├ train2017/    # training images\n",
        "└ val2017/      # validation images\n",
        "```"
      ]
    },
    {
      "cell_type": "code",
      "execution_count": null,
      "metadata": {
        "id": "k_WTdI-2Ed1p"
      },
      "outputs": [],
      "source": [
        "!mkdir -p /content/data/custom/annotations/\n",
        "\n",
        "!mv /content/VIA2COCO/balloon/train/custom_train.json /content/data/custom/annotations/custom_train.json\n",
        "!mv /content/VIA2COCO/balloon/val/custom_val.json /content/data/custom/annotations/custom_val.json\n",
        "\n",
        "!mkdir -p /content/data/custom/train2017/\n",
        "\n",
        "!mv /content/VIA2COCO/balloon/train/*.jpg /content/data/custom/train2017/\n",
        "\n",
        "!mkdir -p /content/data/custom/val2017/\n",
        "\n",
        "!mv /content/VIA2COCO/balloon/val/*.jpg /content/data/custom/val2017/"
      ]
    },
    {
      "cell_type": "markdown",
      "metadata": {
        "id": "b-MpzdaZ4B64"
      },
      "source": [
        "## Check the dataset after it was pre-processed for fine-tuning\n",
        "\n",
        "To verify the data loading is correct, let's visualize the annotations of randomly selected samples in the training set:\n",
        "-   Demo of COCO API: https://github.com/cocodataset/cocoapi/blob/master/PythonAPI/pycocoDemo.ipynb"
      ]
    },
    {
      "cell_type": "code",
      "execution_count": null,
      "metadata": {
        "id": "hMMXcsU8MCIa"
      },
      "outputs": [],
      "source": [
        "%matplotlib inline\n",
        "import pycocotools.coco as coco\n",
        "from pycocotools.coco import COCO\n",
        "import numpy as np\n",
        "import skimage.io as io\n",
        "import matplotlib.pyplot as plt\n",
        "import pylab\n",
        "pylab.rcParams['figure.figsize'] = (10.0, 8.0)"
      ]
    },
    {
      "cell_type": "code",
      "execution_count": null,
      "metadata": {
        "id": "XHxI1MZjMC8j"
      },
      "outputs": [],
      "source": [
        "dataDir='/data/'\n",
        "dataType='train'\n",
        "annFile='{}annotations/train.json'.format(dataDir)"
      ]
    },
    {
      "cell_type": "code",
      "execution_count": null,
      "metadata": {
        "colab": {
          "base_uri": "https://localhost:8080/"
        },
        "id": "4Atk5bAdMUdo",
        "outputId": "0ae00287-444c-4d0c-c994-1891d980db76"
      },
      "outputs": [],
      "source": [
        "# initialize COCO api for instance annotations\n",
        "coco=COCO(annFile)"
      ]
    },
    {
      "cell_type": "code",
      "execution_count": null,
      "metadata": {
        "colab": {
          "base_uri": "https://localhost:8080/"
        },
        "id": "Z_zWBHa4MXFf",
        "outputId": "f3e04c4a-f6be-49cc-c1f2-f5da0a77c282"
      },
      "outputs": [],
      "source": [
        "# display COCO categories and supercategories\n",
        "cats = coco.loadCats(coco.getCatIds())\n",
        "\n",
        "nms=[cat['name'] for cat in cats]\n",
        "print('Categories: {}'.format(nms))\n",
        "\n",
        "nms = set([cat['supercategory'] for cat in cats])\n",
        "print('Super-categories: {}'.format(nms))"
      ]
    },
    {
      "cell_type": "code",
      "execution_count": null,
      "metadata": {
        "id": "Wf3mJ0IeMieW"
      },
      "outputs": [],
      "source": [
        "# load and display image\n",
        "catIds = coco.getCatIds(catNms=['OH', \"UG\"]);\n",
        "imgIds = coco.getImgIds(catIds=catIds );"
      ]
    },
    {
      "cell_type": "code",
      "execution_count": null,
      "metadata": {
        "colab": {
          "base_uri": "https://localhost:8080/",
          "height": 633
        },
        "id": "KF0N82y_OEuY",
        "outputId": "7104e615-d96d-4782-9d00-c01c099680ac"
      },
      "outputs": [],
      "source": [
        "img_id = imgIds[np.random.randint(0,len(imgIds))]\n",
        "print('Image n°{}'.format(img_id))\n",
        "\n",
        "img = coco.loadImgs(img_id)[0]\n",
        "\n",
        "img_name = '%s/%s/%s'%(dataDir, dataType, img['file_name'])\n",
        "print('Image name: {}'.format(img_name))\n",
        "\n",
        "I = io.imread(img_name)\n",
        "plt.figure()\n",
        "plt.imshow(I)"
      ]
    },
    {
      "cell_type": "code",
      "execution_count": null,
      "metadata": {
        "id": "IzWIaLbEN8Qd"
      },
      "outputs": [],
      "source": [
        "annIds = coco.getAnnIds(imgIds=img['id'], catIds=catIds)\n",
        "anns = coco.loadAnns(annIds)"
      ]
    },
    {
      "cell_type": "code",
      "execution_count": null,
      "metadata": {
        "colab": {
          "base_uri": "https://localhost:8080/",
          "height": 582
        },
        "id": "acFs3LH0MtPm",
        "outputId": "9c4dcff9-5165-4061-eadc-8a87613be5c7"
      },
      "outputs": [],
      "source": [
        "# load and display instance annotations\n",
        "plt.imshow(I)\n",
        "coco.showAnns(anns, draw_bbox=False)"
      ]
    },
    {
      "cell_type": "code",
      "execution_count": null,
      "metadata": {
        "colab": {
          "base_uri": "https://localhost:8080/",
          "height": 582
        },
        "id": "spn0TS04Ngks",
        "outputId": "f464fa3a-9e1f-4024-dc65-ff75616a1582"
      },
      "outputs": [],
      "source": [
        "plt.imshow(I)\n",
        "coco.showAnns(anns, draw_bbox=True)"
      ]
    },
    {
      "cell_type": "markdown",
      "metadata": {
        "id": "fuRYfsRQ_1ST"
      },
      "source": [
        "### Boilerplate variables\n",
        "\n",
        "**Caveat**: the parameter name `num_classes` is misleading. It is actually the ID which DETR will reserve for **its own** `no_object` class.\n",
        "\n",
        "It should be set to one plus the highest class ID in your dataset. In this case, highest ID is 2 for UG structures.\n"
      ]
    },
    {
      "cell_type": "code",
      "execution_count": null,
      "metadata": {
        "colab": {
          "base_uri": "https://localhost:8080/"
        },
        "id": "J_mAMvK1_1jx",
        "outputId": "8e29abd4-285e-4769-d01c-2f6339f4bf87"
      },
      "outputs": [],
      "source": [
        "assert(first_class_index in [0, 1])\n",
        "\n",
        "if first_class_index == 0:\n",
        "\n",
        "  # There is one class, balloon, with ID n°0.\n",
        "\n",
        "  num_classes = 1\n",
        "\n",
        "  finetuned_classes = [\n",
        "      'OH',\n",
        "  ]\n",
        "\n",
        "  # The `no_object` class will be automatically reserved by DETR with ID equal\n",
        "  # to `num_classes`, so ID n°1 here.\n",
        "\n",
        "else:\n",
        "\n",
        "  # There is one class, balloon, with ID n°1.\n",
        "  #\n",
        "  # However, DETR assumes that indexing starts with 0, as in computer science,\n",
        "  # so there is a dummy class with ID n°0.\n",
        "  # Caveat: this dummy class is not the `no_object` class reserved by DETR.\n",
        "\n",
        "  num_classes = 3\n",
        "\n",
        "  finetuned_classes = [\n",
        "      'N/A', 'OH', \"UG\",\n",
        "  ]\n",
        "\n",
        "  # The `no_object` class will be automatically reserved by DETR with ID equal\n",
        "  # to `num_classes`, so ID n°2 here.\n",
        "\n",
        "print('First class index: {}'.format(first_class_index))\n",
        "print('Parameter num_classes: {}'.format(num_classes))\n",
        "print('Fine-tuned classes: {}'.format(finetuned_classes))"
      ]
    },
    {
      "cell_type": "code",
      "execution_count": null,
      "metadata": {
        "colab": {
          "base_uri": "https://localhost:8080/"
        },
        "id": "g7rmrR2cPfdY",
        "outputId": "7c551992-100b-4d8c-a96a-9815bb395d75"
      },
      "outputs": [],
      "source": [
        "%cd /detr/"
      ]
    },
    {
      "cell_type": "markdown",
      "metadata": {
        "id": "ld6L2ee-Ui6G"
      },
      "source": [
        "**Caveat**: below, we override the value of `num_classes` (hard-coded to 2 for the `custom` dataset in my `finetune` branch of DETR) in case `first_class_index = 0` instead of `first_class_index = 1` (default value)."
      ]
    },
    {
      "cell_type": "code",
      "execution_count": null,
      "metadata": {
        "colab": {
          "base_uri": "https://localhost:8080/"
        },
        "id": "O2xphsBsfwtH",
        "outputId": "eb8e13cc-aef4-461b-aed1-6cb0fe3d0922"
      },
      "outputs": [],
      "source": [
        "!python main.py \\\n",
        "  --dataset_file \"custom\" \\\n",
        "  --coco_path \"/content/data/\" \\\n",
        "  --output_dir \"outputs\" \\\n",
        "  --resume \"detr-r50_no-class-head.pth\" \\\n",
        "  --num_classes $num_classes \\\n",
        "  --epochs 10"
      ]
    },
    {
      "cell_type": "markdown",
      "metadata": {
        "id": "mK99P3dUbnlB"
      },
      "source": [
        "## Check the results"
      ]
    },
    {
      "cell_type": "markdown",
      "metadata": {
        "id": "UBKisTcD8F4g"
      },
      "source": [
        "### Monitoring of training\n",
        "\n",
        "Reference: https://github.com/lessw2020/Thunder-Detr/blob/master/View_your_training_results.ipynb"
      ]
    },
    {
      "cell_type": "code",
      "execution_count": null,
      "metadata": {
        "id": "j0Mxq0pg8Mxh"
      },
      "outputs": [],
      "source": [
        "from util.plot_utils import plot_logs\n",
        "\n",
        "from pathlib import Path\n",
        "\n",
        "log_directory = [Path('outputs/')]"
      ]
    },
    {
      "cell_type": "markdown",
      "metadata": {
        "id": "1VvT0bvJndQ9"
      },
      "source": [
        "As mentioned in the code of [`plot_logs`](https://github.com/facebookresearch/detr/blob/5e66b4cd15b2b182da347103dd16578d28b49d69/util/plot_utils.py#L13):\n",
        "-   solid lines are training results,\n",
        "-   dashed lines are validation results."
      ]
    },
    {
      "cell_type": "code",
      "execution_count": null,
      "metadata": {
        "colab": {
          "base_uri": "https://localhost:8080/",
          "height": 376
        },
        "id": "MwWDIJlVpVoh",
        "outputId": "2b5a0035-389c-4ef4-ca0d-a686bff9c220"
      },
      "outputs": [],
      "source": [
        "fields_of_interest = (\n",
        "    'loss',\n",
        "    'mAP',\n",
        "    )\n",
        "\n",
        "plot_logs(log_directory,\n",
        "          fields_of_interest)"
      ]
    },
    {
      "cell_type": "code",
      "execution_count": null,
      "metadata": {
        "colab": {
          "base_uri": "https://localhost:8080/",
          "height": 445
        },
        "id": "twHn7T4Dohb_",
        "outputId": "0195cb3d-8c56-478f-978f-1cc9d000a399"
      },
      "outputs": [],
      "source": [
        "fields_of_interest = (\n",
        "    'loss_ce',\n",
        "    'loss_bbox',\n",
        "    'loss_giou',\n",
        "    )\n",
        "\n",
        "plot_logs(log_directory,\n",
        "          fields_of_interest)"
      ]
    },
    {
      "cell_type": "code",
      "execution_count": null,
      "metadata": {
        "colab": {
          "base_uri": "https://localhost:8080/",
          "height": 411
        },
        "id": "Kha2dds9pJBo",
        "outputId": "12c4dec5-16d6-43dc-f137-a9a1391a25b5"
      },
      "outputs": [],
      "source": [
        "fields_of_interest = (\n",
        "    'class_error',\n",
        "    'cardinality_error_unscaled',\n",
        "    )\n",
        "\n",
        "plot_logs(log_directory,\n",
        "          fields_of_interest)"
      ]
    },
    {
      "cell_type": "markdown",
      "metadata": {
        "id": "0NuhKtWU1Otf"
      },
      "source": [
        "### Load the fine-tuned model\n",
        "\n",
        "- Instead of retraining entire model, by putting checkpoint.pth into 'outputs' directory in root directory and loading with below code, you can run the model with trained weights."
      ]
    },
    {
      "cell_type": "code",
      "execution_count": null,
      "metadata": {
        "colab": {
          "base_uri": "https://localhost:8080/"
        },
        "id": "ZXE891KGcfao",
        "outputId": "a0380840-e6ba-449f-f520-df73d7d1890b"
      },
      "outputs": [],
      "source": [
        "model = torch.hub.load('facebookresearch/detr',\n",
        "                       'detr_resnet50',\n",
        "                       pretrained=False,\n",
        "                       num_classes=num_classes)\n",
        "\n",
        "checkpoint = torch.load('outputs/checkpoint.pth',\n",
        "                        map_location='cpu')\n",
        "\n",
        "model.load_state_dict(checkpoint['model'],\n",
        "                      strict=False)\n",
        "\n",
        "model.eval();"
      ]
    },
    {
      "cell_type": "markdown",
      "metadata": {
        "id": "S_UQg8Q61xFm"
      },
      "source": [
        "### Boilerplate functions to display fine-tuned results"
      ]
    },
    {
      "cell_type": "code",
      "execution_count": null,
      "metadata": {
        "id": "apXgUkEL0izY"
      },
      "outputs": [],
      "source": [
        "def plot_finetuned_results(pil_img, prob=None, boxes=None):\n",
        "    plt.figure(figsize=(16,10))\n",
        "    plt.imshow(pil_img)\n",
        "    ax = plt.gca()\n",
        "    colors = COLORS * 100\n",
        "    if prob is not None and boxes is not None:\n",
        "      for p, (xmin, ymin, xmax, ymax), c in zip(prob, boxes.tolist(), colors):\n",
        "          ax.add_patch(plt.Rectangle((xmin, ymin), xmax - xmin, ymax - ymin,\n",
        "                                    fill=False, color=c, linewidth=3))\n",
        "          cl = p.argmax()\n",
        "          text = f'{finetuned_classes[cl]}: {p[cl]:0.2f}'\n",
        "          ax.text(xmin, ymin, text, fontsize=15,\n",
        "                  bbox=dict(facecolor='yellow', alpha=0.5))\n",
        "    plt.axis('off')\n",
        "    plt.show()"
      ]
    },
    {
      "cell_type": "code",
      "execution_count": null,
      "metadata": {
        "id": "WLEGf0X_2ELI"
      },
      "outputs": [],
      "source": [
        "def run_worflow(my_image, my_model):\n",
        "  # mean-std normalize the input image (batch-size: 1)\n",
        "  img = transform(my_image).unsqueeze(0)\n",
        "\n",
        "  # propagate through the model\n",
        "  outputs = my_model(img)\n",
        "\n",
        "  for threshold in [0.9, 0.7, 0.5]:\n",
        "\n",
        "    probas_to_keep, bboxes_scaled = filter_bboxes_from_outputs(outputs,\n",
        "                                                              threshold=threshold)\n",
        "\n",
        "    plot_finetuned_results(my_image,\n",
        "                           probas_to_keep,\n",
        "                           bboxes_scaled)\n"
      ]
    },
    {
      "cell_type": "markdown",
      "metadata": {
        "id": "SC9fpUq01MFI"
      },
      "source": [
        "### With a training image"
      ]
    },
    {
      "cell_type": "code",
      "execution_count": null,
      "metadata": {
        "colab": {
          "base_uri": "https://localhost:8080/",
          "height": 1000
        },
        "id": "-urxXMflbuiF",
        "outputId": "94d7f085-51fa-4048-9e1b-79eb9945fbfb"
      },
      "outputs": [],
      "source": [
        "from PIL import Image\n",
        "\n",
        "img_name = '/content/data/custom/train2017/OH_1_v1_f90.jpg'\n",
        "im = Image.open(img_name)\n",
        "\n",
        "run_worflow(im,\n",
        "            model)"
      ]
    },
    {
      "cell_type": "markdown",
      "metadata": {
        "id": "l2kkVgXJ142T"
      },
      "source": [
        "### With a validation image"
      ]
    },
    {
      "cell_type": "code",
      "execution_count": null,
      "metadata": {
        "colab": {
          "base_uri": "https://localhost:8080/",
          "height": 1000
        },
        "id": "YvbIXFFG17la",
        "outputId": "51927177-1352-45ad-d8b7-aea6c8bf70cc"
      },
      "outputs": [],
      "source": [
        "from PIL import Image\n",
        "\n",
        "img_name = '/content/c6_loc6.jpg'\n",
        "im = Image.open(img_name)\n",
        "\n",
        "run_worflow(im,\n",
        "            model)"
      ]
    }
  ],
  "metadata": {
    "accelerator": "GPU",
    "colab": {
      "name": "finetune_detr.ipynb",
      "provenance": []
    },
    "kernelspec": {
      "display_name": "Python 3",
      "name": "python3"
    },
    "language_info": {
      "codemirror_mode": {
        "name": "ipython",
        "version": 3
      },
      "file_extension": ".py",
      "mimetype": "text/x-python",
      "name": "python",
      "nbconvert_exporter": "python",
      "pygments_lexer": "ipython3",
      "version": "3.9.18"
    }
  },
  "nbformat": 4,
  "nbformat_minor": 0
}
